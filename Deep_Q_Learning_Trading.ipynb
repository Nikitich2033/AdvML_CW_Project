{
 "cells": [
  {
   "cell_type": "markdown",
   "id": "d68b0099",
   "metadata": {},
   "source": [
    "# Tutorial: Deep Q-Learning for crypto trading"
   ]
  },
  {
   "cell_type": "markdown",
   "id": "d68c1451",
   "metadata": {},
   "source": [
    "#### Books & Papers:\n",
    "\n",
    "- https://arxiv.org/pdf/1708.05866.pdf (A brief survey of deep reinforcement learning)\n",
    "- http://incompleteideas.net/book/RLbook2020.pdf (Reinforcement Learning, An Introduction)\n",
    "-https://www.packtpub.com/product/deep-reinforcement-learning-hands-on-second-edition/9781838826994 (Deep Reinforcement Learning Hands-On - Second Edition)\n",
    "- https://arxiv.org/pdf/1911.10107.pdf (Deep Reinforcement Learning for Trading)\n",
    "- https://www.sciencedirect.com/science/article/pii/S0957417421000737 (An application of deep reinforcement learning to algorithmic trading)\n",
    "- https://arxiv.org/abs/1706.10059 (A Deep Reinforcement Learning Framework for the Financial Portfolio Management Problem)\n",
    "\n",
    "#### Links:\n",
    "- https://github.com/AminHP/gym-anytrading/tree/master\n",
    "- https://www.kaggle.com/code/learnmore1/deep-reinforcement-learning-for-stock-trading-1#Part-2.-Getting-Started--Load-Python-Packages\n",
    "- https://medium.com/@murrawang/deep-q-network-and-its-application-in-algorithmic-trading-16440a112e04"
   ]
  },
  {
   "cell_type": "code",
   "execution_count": 1,
   "id": "5bcc3670",
   "metadata": {},
   "outputs": [
    {
     "name": "stdout",
     "output_type": "stream",
     "text": [
      "Requirement already satisfied: yfinance in c:\\users\\lyakh\\appdata\\local\\programs\\python\\python310\\lib\\site-packages (0.2.37)\n",
      "Requirement already satisfied: requests>=2.31 in c:\\users\\lyakh\\appdata\\local\\programs\\python\\python310\\lib\\site-packages (from yfinance) (2.31.0)\n",
      "Requirement already satisfied: lxml>=4.9.1 in c:\\users\\lyakh\\appdata\\local\\programs\\python\\python310\\lib\\site-packages (from yfinance) (5.1.0)\n",
      "Requirement already satisfied: pytz>=2022.5 in c:\\users\\lyakh\\appdata\\local\\programs\\python\\python310\\lib\\site-packages (from yfinance) (2024.1)\n",
      "Requirement already satisfied: html5lib>=1.1 in c:\\users\\lyakh\\appdata\\local\\programs\\python\\python310\\lib\\site-packages (from yfinance) (1.1)\n",
      "Requirement already satisfied: numpy>=1.16.5 in c:\\users\\lyakh\\appdata\\local\\programs\\python\\python310\\lib\\site-packages (from yfinance) (1.26.4)\n",
      "Requirement already satisfied: pandas>=1.3.0 in c:\\users\\lyakh\\appdata\\local\\programs\\python\\python310\\lib\\site-packages (from yfinance) (2.2.1)\n",
      "Requirement already satisfied: appdirs>=1.4.4 in c:\\users\\lyakh\\appdata\\local\\programs\\python\\python310\\lib\\site-packages (from yfinance) (1.4.4)\n",
      "Requirement already satisfied: frozendict>=2.3.4 in c:\\users\\lyakh\\appdata\\local\\programs\\python\\python310\\lib\\site-packages (from yfinance) (2.4.0)\n",
      "Requirement already satisfied: peewee>=3.16.2 in c:\\users\\lyakh\\appdata\\local\\programs\\python\\python310\\lib\\site-packages (from yfinance) (3.17.1)\n",
      "Requirement already satisfied: beautifulsoup4>=4.11.1 in c:\\users\\lyakh\\appdata\\local\\programs\\python\\python310\\lib\\site-packages (from yfinance) (4.12.3)\n",
      "Requirement already satisfied: multitasking>=0.0.7 in c:\\users\\lyakh\\appdata\\local\\programs\\python\\python310\\lib\\site-packages (from yfinance) (0.0.11)\n",
      "Requirement already satisfied: soupsieve>1.2 in c:\\users\\lyakh\\appdata\\local\\programs\\python\\python310\\lib\\site-packages (from beautifulsoup4>=4.11.1->yfinance) (2.5)\n",
      "Requirement already satisfied: six>=1.9 in c:\\users\\lyakh\\appdata\\roaming\\python\\python310\\site-packages (from html5lib>=1.1->yfinance) (1.16.0)\n",
      "Requirement already satisfied: webencodings in c:\\users\\lyakh\\appdata\\local\\programs\\python\\python310\\lib\\site-packages (from html5lib>=1.1->yfinance) (0.5.1)\n",
      "Requirement already satisfied: python-dateutil>=2.8.2 in c:\\users\\lyakh\\appdata\\roaming\\python\\python310\\site-packages (from pandas>=1.3.0->yfinance) (2.8.2)\n",
      "Requirement already satisfied: tzdata>=2022.7 in c:\\users\\lyakh\\appdata\\local\\programs\\python\\python310\\lib\\site-packages (from pandas>=1.3.0->yfinance) (2024.1)\n",
      "Requirement already satisfied: idna<4,>=2.5 in c:\\users\\lyakh\\appdata\\local\\programs\\python\\python310\\lib\\site-packages (from requests>=2.31->yfinance) (3.6)\n",
      "Requirement already satisfied: certifi>=2017.4.17 in c:\\users\\lyakh\\appdata\\local\\programs\\python\\python310\\lib\\site-packages (from requests>=2.31->yfinance) (2024.2.2)\n",
      "Requirement already satisfied: urllib3<3,>=1.21.1 in c:\\users\\lyakh\\appdata\\local\\programs\\python\\python310\\lib\\site-packages (from requests>=2.31->yfinance) (1.26.18)\n",
      "Requirement already satisfied: charset-normalizer<4,>=2 in c:\\users\\lyakh\\appdata\\local\\programs\\python\\python310\\lib\\site-packages (from requests>=2.31->yfinance) (3.3.2)\n"
     ]
    },
    {
     "name": "stderr",
     "output_type": "stream",
     "text": [
      "WARNING: You are using pip version 21.2.3; however, version 24.0 is available.\n",
      "You should consider upgrading via the 'C:\\Users\\lyakh\\AppData\\Local\\Programs\\Python\\Python310\\python.exe -m pip install --upgrade pip' command.\n"
     ]
    }
   ],
   "source": [
    "# Install useful Python libraries.\n",
    "\n",
    "!pip install yfinance --upgrade --no-cache-dir"
   ]
  },
  {
   "cell_type": "code",
   "execution_count": 2,
   "id": "d57542d7",
   "metadata": {},
   "outputs": [],
   "source": [
    "# Import useful Python libraries.\n",
    "\n",
    "from collections import deque\n",
    "import random\n",
    "import time\n",
    "import calendar\n",
    "import datetime\n",
    "from datetime import date, timedelta\n",
    "\n",
    "import numpy as np\n",
    "import pandas as pd\n",
    "\n",
    "import matplotlib.pyplot as plt\n",
    "import seaborn as sns\n",
    "\n",
    "from pandas_datareader import data as pdr\n",
    "import yfinance as yf\n",
    "import ccxt\n",
    "import mplfinance as mpf\n",
    "\n",
    "import tensorflow.compat.v1 as tf"
   ]
  },
  {
   "cell_type": "code",
   "execution_count": 3,
   "id": "51f487d5",
   "metadata": {},
   "outputs": [],
   "source": [
    "sns.set()\n",
    "tf.compat.v1.disable_eager_execution()"
   ]
  },
  {
   "cell_type": "code",
   "execution_count": 4,
   "id": "02921feb",
   "metadata": {},
   "outputs": [],
   "source": [
    "# A possible solution to access financial data (crypto data).\n",
    "\n",
    "sdate_training = date(2024,1,1)   # Start date training data -> included.\n",
    "edate_training = date(2024,1,15)   # End date training data - excluded.\n",
    "\n",
    "sdate_test = date(2024,1,15)   # Start date training date -> included.\n",
    "edate_test = date(2024,1,20)   # End date training date - excluded.\n",
    "\n",
    "trading_symbol = 'BTC/USDT' # Pair to be downloaded (BE CAREFUL).\n",
    "granularity = '1h' # Data granularity (it changes based on the chosen Exchange). "
   ]
  },
  {
   "cell_type": "code",
   "execution_count": 5,
   "id": "c7d5c2e8",
   "metadata": {},
   "outputs": [],
   "source": [
    "list_dates_training = pd.date_range(sdate_training, edate_training-timedelta(days=1),freq='d').strftime(\"%Y-%m-%d\").tolist() # List of all days in the training set.\n",
    "list_dates_test = pd.date_range(sdate_test, edate_test-timedelta(days=1),freq='d').strftime(\"%Y-%m-%d\").tolist() # List of all days in the test set."
   ]
  },
  {
   "cell_type": "code",
   "execution_count": 6,
   "id": "6aa3eb42",
   "metadata": {},
   "outputs": [
    {
     "name": "stdout",
     "output_type": "stream",
     "text": [
      "Training days: ['2024-01-01', '2024-01-02', '2024-01-03', '2024-01-04', '2024-01-05', '2024-01-06', '2024-01-07', '2024-01-08', '2024-01-09', '2024-01-10', '2024-01-11', '2024-01-12', '2024-01-13', '2024-01-14']\n"
     ]
    }
   ],
   "source": [
    "print(f'Training days: {list_dates_training}')"
   ]
  },
  {
   "cell_type": "code",
   "execution_count": 7,
   "id": "0cd3859c",
   "metadata": {},
   "outputs": [
    {
     "name": "stdout",
     "output_type": "stream",
     "text": [
      "Test days: ['2024-01-15', '2024-01-16', '2024-01-17', '2024-01-18', '2024-01-19']\n"
     ]
    }
   ],
   "source": [
    "print(f'Test days: {list_dates_test}')"
   ]
  },
  {
   "cell_type": "code",
   "execution_count": 8,
   "id": "cc434ef3",
   "metadata": {},
   "outputs": [],
   "source": [
    "import ccxt\n",
    "import pandas as pd\n",
    "import datetime\n",
    "import time\n",
    "\n",
    "# Assuming list_dates_training and list_dates_test are defined, as well as trading_symbol and granularity\n",
    "exchange = ccxt.binance()\n",
    "\n",
    "# Prepare empty DataFrames\n",
    "df_training = pd.DataFrame(columns=['Time', 'Open', 'High', 'Low', 'Close', 'Volume'])\n",
    "df_test = pd.DataFrame(columns=['Time', 'Open', 'High', 'Low', 'Close', 'Volume'])\n",
    "\n",
    "# Function to download data\n",
    "def download_data(list_dates, trading_symbol, granularity):\n",
    "    df_list = []  # To collect dataframes temporarily\n",
    "    for date in list_dates:\n",
    "        since = time.mktime(datetime.datetime.strptime(date, \"%Y-%m-%d\").timetuple()) * 1000\n",
    "        ohlcv = exchange.fetch_ohlcv(symbol=trading_symbol, timeframe=granularity, since=int(since))\n",
    "        df = pd.DataFrame(ohlcv, columns=['Time', 'Open', 'High', 'Low', 'Close', 'Volume'])\n",
    "        df['Time'] = pd.to_datetime(df['Time'], unit='ms')\n",
    "        df = df.iloc[:24]  # Assuming you want the first 24 records of each fetched batch\n",
    "        df_list.append(df)\n",
    "    full_df = pd.concat(df_list, ignore_index=True)\n",
    "    full_df.set_index('Time', inplace=True)\n",
    "    return full_df\n",
    "\n",
    "# Download training and test data\n",
    "df_training = download_data(list_dates_training, trading_symbol, granularity)\n",
    "df_test = download_data(list_dates_test, trading_symbol, granularity)\n"
   ]
  },
  {
   "cell_type": "code",
   "execution_count": 9,
   "id": "9bb642e6",
   "metadata": {},
   "outputs": [
    {
     "name": "stdout",
     "output_type": "stream",
     "text": [
      "Available time granularities on the chosen Exchange: {'1s': '1s', '1m': '1m', '3m': '3m', '5m': '5m', '15m': '15m', '30m': '30m', '1h': '1h', '2h': '2h', '4h': '4h', '6h': '6h', '8h': '8h', '12h': '12h', '1d': '1d', '3d': '3d', '1w': '1w', '1M': '1M'}\n"
     ]
    }
   ],
   "source": [
    "print(f'Available time granularities on the chosen Exchange: {exchange.timeframes}')"
   ]
  },
  {
   "cell_type": "code",
   "execution_count": 10,
   "id": "87a267f6",
   "metadata": {},
   "outputs": [
    {
     "data": {
      "text/html": [
       "<div>\n",
       "<style scoped>\n",
       "    .dataframe tbody tr th:only-of-type {\n",
       "        vertical-align: middle;\n",
       "    }\n",
       "\n",
       "    .dataframe tbody tr th {\n",
       "        vertical-align: top;\n",
       "    }\n",
       "\n",
       "    .dataframe thead th {\n",
       "        text-align: right;\n",
       "    }\n",
       "</style>\n",
       "<table border=\"1\" class=\"dataframe\">\n",
       "  <thead>\n",
       "    <tr style=\"text-align: right;\">\n",
       "      <th></th>\n",
       "      <th>Open</th>\n",
       "      <th>High</th>\n",
       "      <th>Low</th>\n",
       "      <th>Close</th>\n",
       "      <th>Volume</th>\n",
       "    </tr>\n",
       "    <tr>\n",
       "      <th>Time</th>\n",
       "      <th></th>\n",
       "      <th></th>\n",
       "      <th></th>\n",
       "      <th></th>\n",
       "      <th></th>\n",
       "    </tr>\n",
       "  </thead>\n",
       "  <tbody>\n",
       "    <tr>\n",
       "      <th>2024-01-01 00:00:00</th>\n",
       "      <td>42283.58</td>\n",
       "      <td>42554.57</td>\n",
       "      <td>42261.02</td>\n",
       "      <td>42475.23</td>\n",
       "      <td>1271.68108</td>\n",
       "    </tr>\n",
       "    <tr>\n",
       "      <th>2024-01-01 01:00:00</th>\n",
       "      <td>42475.23</td>\n",
       "      <td>42775.00</td>\n",
       "      <td>42431.65</td>\n",
       "      <td>42613.56</td>\n",
       "      <td>1196.37856</td>\n",
       "    </tr>\n",
       "    <tr>\n",
       "      <th>2024-01-01 02:00:00</th>\n",
       "      <td>42613.57</td>\n",
       "      <td>42638.41</td>\n",
       "      <td>42500.00</td>\n",
       "      <td>42581.10</td>\n",
       "      <td>685.21980</td>\n",
       "    </tr>\n",
       "  </tbody>\n",
       "</table>\n",
       "</div>"
      ],
      "text/plain": [
       "                         Open      High       Low     Close      Volume\n",
       "Time                                                                   \n",
       "2024-01-01 00:00:00  42283.58  42554.57  42261.02  42475.23  1271.68108\n",
       "2024-01-01 01:00:00  42475.23  42775.00  42431.65  42613.56  1196.37856\n",
       "2024-01-01 02:00:00  42613.57  42638.41  42500.00  42581.10   685.21980"
      ]
     },
     "execution_count": 10,
     "metadata": {},
     "output_type": "execute_result"
    }
   ],
   "source": [
    "df_training.head(3) # Visualize the training dataset."
   ]
  },
  {
   "cell_type": "code",
   "execution_count": 11,
   "id": "3d120b6c",
   "metadata": {},
   "outputs": [
    {
     "data": {
      "text/html": [
       "<div>\n",
       "<style scoped>\n",
       "    .dataframe tbody tr th:only-of-type {\n",
       "        vertical-align: middle;\n",
       "    }\n",
       "\n",
       "    .dataframe tbody tr th {\n",
       "        vertical-align: top;\n",
       "    }\n",
       "\n",
       "    .dataframe thead th {\n",
       "        text-align: right;\n",
       "    }\n",
       "</style>\n",
       "<table border=\"1\" class=\"dataframe\">\n",
       "  <thead>\n",
       "    <tr style=\"text-align: right;\">\n",
       "      <th></th>\n",
       "      <th>Open</th>\n",
       "      <th>High</th>\n",
       "      <th>Low</th>\n",
       "      <th>Close</th>\n",
       "      <th>Volume</th>\n",
       "    </tr>\n",
       "    <tr>\n",
       "      <th>Time</th>\n",
       "      <th></th>\n",
       "      <th></th>\n",
       "      <th></th>\n",
       "      <th></th>\n",
       "      <th></th>\n",
       "    </tr>\n",
       "  </thead>\n",
       "  <tbody>\n",
       "    <tr>\n",
       "      <th>2024-01-15 00:00:00</th>\n",
       "      <td>41732.35</td>\n",
       "      <td>42353.94</td>\n",
       "      <td>41718.05</td>\n",
       "      <td>42279.75</td>\n",
       "      <td>2433.52283</td>\n",
       "    </tr>\n",
       "    <tr>\n",
       "      <th>2024-01-15 01:00:00</th>\n",
       "      <td>42279.76</td>\n",
       "      <td>42398.73</td>\n",
       "      <td>42176.28</td>\n",
       "      <td>42275.18</td>\n",
       "      <td>1404.64040</td>\n",
       "    </tr>\n",
       "    <tr>\n",
       "      <th>2024-01-15 02:00:00</th>\n",
       "      <td>42275.17</td>\n",
       "      <td>42411.62</td>\n",
       "      <td>42194.12</td>\n",
       "      <td>42399.72</td>\n",
       "      <td>850.09544</td>\n",
       "    </tr>\n",
       "  </tbody>\n",
       "</table>\n",
       "</div>"
      ],
      "text/plain": [
       "                         Open      High       Low     Close      Volume\n",
       "Time                                                                   \n",
       "2024-01-15 00:00:00  41732.35  42353.94  41718.05  42279.75  2433.52283\n",
       "2024-01-15 01:00:00  42279.76  42398.73  42176.28  42275.18  1404.64040\n",
       "2024-01-15 02:00:00  42275.17  42411.62  42194.12  42399.72   850.09544"
      ]
     },
     "execution_count": 11,
     "metadata": {},
     "output_type": "execute_result"
    }
   ],
   "source": [
    "df_test.head(3) # Visualize the test dataset."
   ]
  },
  {
   "cell_type": "code",
   "execution_count": 12,
   "id": "0afe809b",
   "metadata": {},
   "outputs": [
    {
     "data": {
      "image/png": "[encoded data removed]",
      "text/plain": [
       "<Figure size 800x575 with 2 Axes>"
      ]
     },
     "metadata": {},
     "output_type": "display_data"
    }
   ],
   "source": [
    "mpf.plot(df_training,type='candle') # A way to visualize data using candles. "
   ]
  },
  {
   "cell_type": "code",
   "execution_count": 13,
   "id": "836b38e5",
   "metadata": {},
   "outputs": [
    {
     "data": {
      "image/png": "[encoded data removed]",
      "text/plain": [
       "<Figure size 800x575 with 4 Axes>"
      ]
     },
     "metadata": {},
     "output_type": "display_data"
    }
   ],
   "source": [
    "mpf.plot(df_test,type='candle',mav=(3,6,9),volume=True) # Multiple MAVs visualization."
   ]
  },
  {
   "cell_type": "markdown",
   "id": "e0d6ef4e",
   "metadata": {},
   "source": [
    "### Reinforcement Learning"
   ]
  },
  {
   "cell_type": "code",
   "execution_count": 14,
   "id": "a32322f2",
   "metadata": {},
   "outputs": [],
   "source": [
    "df = df_training.copy()\n",
    "name = 'SimplisticDeepQTrader'"
   ]
  },
  {
   "cell_type": "code",
   "execution_count": 15,
   "id": "ec72972c",
   "metadata": {},
   "outputs": [],
   "source": [
    "class Trader:\n",
    "    \n",
    "    def __init__(self, state_size, window_size, trend, skip, batch_size):\n",
    "        \n",
    "        self.state_size = state_size\n",
    "        self.window_size = window_size\n",
    "        self.half_window = window_size // 2 # Round the result down to the nearest whole number.\n",
    "        self.trend = trend\n",
    "        self.skip = skip\n",
    "        self.action_size = 3 # Action 0 -> Hold; Action 1 -> Buy; Action 2 -> Sell.\n",
    "        self.batch_size = batch_size\n",
    "        self.memory = deque(maxlen = 1000)\n",
    "        self.inventory = []\n",
    "        self.gamma = 0.95\n",
    "        self.epsilon = 0.5\n",
    "        self.epsilon_min = 0.01\n",
    "        self.epsilon_decay = 0.999\n",
    "        \n",
    "        # Reset the TensorFlow default graph to clear any existing tensors and operations.\n",
    "        tf.reset_default_graph()\n",
    "\n",
    "        # Create an interactive TensorFlow session.\n",
    "        self.sess = tf.InteractiveSession()\n",
    "\n",
    "        # Create a TensorFlow placeholder for the input state of the network.\n",
    "        # The first dimension of the placeholder is \"None\", which means it can take any batch size.\n",
    "        # The second dimension is the size of the state vector.\n",
    "        self.X = tf.placeholder(tf.float32, [None, self.state_size])\n",
    "\n",
    "        # Create a TensorFlow placeholder for the output action of the network.\n",
    "        # The first dimension of the placeholder is \"None\", which means it can take any batch size.\n",
    "        # The second dimension is the size of the action vector.\n",
    "        self.Y = tf.placeholder(tf.float32, [None, self.action_size])\n",
    "\n",
    "        # Create a fully connected layer with 256 units and ReLU activation function.\n",
    "        # The input to this layer is the state vector.\n",
    "        # The output is the hidden layer output.\n",
    "        feed = tf.layers.dense(self.X, 256, activation = tf.nn.relu)\n",
    "\n",
    "        # Create a fully connected layer with size equal to the action vector size.\n",
    "        # The input to this layer is the hidden layer output.\n",
    "        # The output is the output of the network.\n",
    "        self.logits = tf.layers.dense(feed, self.action_size)\n",
    "\n",
    "        # Compute the mean squared error between the output of the network and the target action.\n",
    "        self.cost = tf.reduce_mean(tf.square(self.Y - self.logits))\n",
    "\n",
    "        # Create a gradient descent optimizer with a learning rate of 1e-5.\n",
    "        # Minimize the cost using the optimizer.\n",
    "        self.optimizer = tf.train.GradientDescentOptimizer(1e-5).minimize(self.cost)\n",
    "\n",
    "        # Initialize all variables in the TensorFlow graph.\n",
    "        self.sess.run(tf.global_variables_initializer())\n",
    "\n",
    "        \n",
    "    def act(self, state):\n",
    "        \"\"\"\n",
    "        Selects an action to take given a state.\n",
    "\n",
    "        Args:\n",
    "        state: The state of the environment.\n",
    "\n",
    "        Returns:\n",
    "        The action to take (an integer).\n",
    "        \"\"\"\n",
    "        \n",
    "        # If a random number is less than the exploration rate, select a random action.\n",
    "        if random.random() <= self.epsilon:\n",
    "            return random.randrange(self.action_size)\n",
    "\n",
    "        # Otherwise, given the current state, use the neural network to select the action with the highest probability.\n",
    "        # The action with the highest probability is the one with the highest output value from the logits layer.\n",
    "        return np.argmax(self.sess.run(self.logits, feed_dict = {self.X: state})[0])\n",
    "\n",
    "    \n",
    "    def get_state(self, t):\n",
    "        \"\"\"\n",
    "        Computes the state of the agent at time 't'.\n",
    "\n",
    "        Args:\n",
    "        - t (int): The current time index.\n",
    "\n",
    "        Returns:\n",
    "        - numpy array: A numpy array of shape (1, window_size-1) representing the state of the agent. Each element in the \n",
    "                      array represents the difference between the i-th and (i+1)-th prices in the stock prices window.\n",
    "                      The window size is defined by 'window_size' attribute of the class.\n",
    "        \"\"\"\n",
    "        \n",
    "        window_size = self.window_size + 1\n",
    "        d = t - window_size + 1\n",
    "        block = self.trend[d : t + 1] if d >= 0 else -d * [self.trend[0]] + self.trend[0 : t + 1]\n",
    "\n",
    "        res = []\n",
    "        for i in range(window_size - 1):\n",
    "            res.append(block[i + 1] - block[i])\n",
    "        \n",
    "        return np.array([res])\n",
    "\n",
    "    \n",
    "    def replay(self, batch_size):\n",
    "        \"\"\"\n",
    "        Performs replay to train a Q-learning trading agent's neural network. It improves the agent's decision-making \n",
    "        by learning from past experiences (transitions) stored in memory.\n",
    "\n",
    "        Process:\n",
    "        1. Creates a mini batch of the most recent 'batch_size' transitions from the agent's memory.\n",
    "        2. Prepares arrays for states (X) and target Q-values (Y), and calculates Q-values for current and next states.\n",
    "        3. Updates the target Q-values for each transition in the mini batch using the Bellman equation. This update \n",
    "           depends on the reward and the maximum Q-value of the next state, applicable if the episode is not done.\n",
    "        4. Trains the neural network using the states and updated target Q-values.\n",
    "        5. Decays the exploration rate if above a certain threshold.\n",
    "\n",
    "        Args:\n",
    "        - batch_size: Number of transitions to sample from the agent's memory.\n",
    "\n",
    "        Returns:\n",
    "        - cost: Measure of the neural network's performance during training.\n",
    "        \"\"\"\n",
    "\n",
    "        mini_batch = []\n",
    "        l = len(self.memory)\n",
    "\n",
    "        for i in range(l - batch_size, l):\n",
    "            mini_batch.append(self.memory[i])\n",
    "\n",
    "        replay_size = len(mini_batch)\n",
    "\n",
    "        # Create empty arrays to hold the state and target data\n",
    "        X = np.empty((replay_size, self.state_size))\n",
    "        Y = np.empty((replay_size, self.action_size))\n",
    "\n",
    "        # Extract the states and next states from the mini batch\n",
    "        states = np.array([a[0][0] for a in mini_batch])\n",
    "        new_states = np.array([a[3][0] for a in mini_batch])\n",
    "\n",
    "        # Obtain Q values for the current and next states\n",
    "        Q = self.sess.run(self.logits, feed_dict={self.X: states})\n",
    "        Q_new = self.sess.run(self.logits, feed_dict={self.X: new_states})\n",
    "\n",
    "        # Loop through the mini batch and update the target Q values\n",
    "        for i in range(len(mini_batch)):\n",
    "            state, action, reward, next_state, done = mini_batch[i]\n",
    "            target = Q[i]\n",
    "            target[action] = reward\n",
    "\n",
    "            if not done:\n",
    "                target[action] += self.gamma * np.amax(Q_new[i])\n",
    "\n",
    "            X[i] = state\n",
    "            Y[i] = target\n",
    "\n",
    "        # Train the neural network on the state and target data\n",
    "        cost, _ = self.sess.run([self.cost, self.optimizer], feed_dict={self.X: X, self.Y: Y})\n",
    "\n",
    "        # Decay the exploration rate\n",
    "        if self.epsilon > self.epsilon_min:\n",
    "            self.epsilon *= self.epsilon_decay\n",
    "\n",
    "        # Return the cost of the neural network during training\n",
    "        return cost\n",
    "    \n",
    "    def train(self, iterations, checkpoint, initial_money):\n",
    "        \"\"\"\n",
    "        The function train takes three arguments: iterations (the number of iterations to train the agent), \n",
    "        checkpoint (the interval at which to print the training progress), and initial_money \n",
    "        (the amount of money to start with). The function trains the RL agent with a replay buffer for the \n",
    "        specified number of iterations. At each iteration, the function initializes variables for the current \n",
    "        episode, iterates over the time steps in the trend data, takes an action based on the current state, \n",
    "        updates the state for the next step, and adds the current step to the replay buffer. \n",
    "        If the current iteration is a multiple of the checkpoint interval, the function prints the \n",
    "        training progress. The function does not return anything.\n",
    "\n",
    "        Args:\n",
    "        - self: an instance of the RL agent class\n",
    "        - iterations (int): the number of iterations to train the agent\n",
    "        - checkpoint (int): the interval at which to print the training progress\n",
    "        - initial_money (float): the amount of money to start with\n",
    "\n",
    "        Returns: None\n",
    "        \"\"\"\n",
    "        for i in range(iterations):\n",
    "            # Initialize variables for the current episode\n",
    "            total_profit = 0\n",
    "            inventory = []\n",
    "            state = self.get_state(0)\n",
    "            starting_money = initial_money\n",
    "\n",
    "            # Iterate over the time steps in the trend data\n",
    "            for t in range(0, len(self.trend) - 1, self.skip):\n",
    "                # Take an action based on the current state\n",
    "                action = self.act(state)\n",
    "                # Get the next state\n",
    "                next_state = self.get_state(t + 1)\n",
    "\n",
    "                # If the action is \"buy\" and there is enough money to buy, add to inventory\n",
    "                if action == 1 and starting_money >= self.trend[t] and t < (len(self.trend) - self.half_window):\n",
    "                    inventory.append(self.trend[t])\n",
    "                    starting_money -= self.trend[t]\n",
    "\n",
    "                # If the action is \"sell\" and there is inventory to sell, sell at current price\n",
    "                elif action == 2 and len(inventory) > 0:\n",
    "                    bought_price = inventory.pop(0)\n",
    "                    total_profit += self.trend[t] - bought_price\n",
    "                    starting_money += self.trend[t]\n",
    "\n",
    "                # Calculate the investment return and add the current step to the replay buffer\n",
    "                invest = ((starting_money - initial_money) / initial_money)\n",
    "                self.memory.append((state, action, invest, next_state, starting_money < initial_money))\n",
    "\n",
    "                # Update the state for the next step and replay the buffer\n",
    "                state = next_state\n",
    "                batch_size = min(self.batch_size, len(self.memory))\n",
    "                cost = self.replay(batch_size)\n",
    "\n",
    "            # Print the progress at the checkpoint interval\n",
    "            if (i+1) % checkpoint == 0:\n",
    "                print(f'Epoch: {i+1} | Total rewards: {total_profit} | Cost: {cost} | Total money {starting_money}')\n",
    "                \n",
    "                \n",
    "    def test(self, initial_money, trend):\n",
    "        \"\"\"\n",
    "        Test the trained RL agent on the provided trend data and initial money.\n",
    "\n",
    "        Args:\n",
    "        - initial_money (float): the amount of money to start with\n",
    "        - trend (list): the list of stock prices to test on\n",
    "\n",
    "        Returns:\n",
    "        - states_buy (list): the indices of the hours when the agent bought stocks\n",
    "        - states_sell (list): the indices of the hours when the agent sold stocks\n",
    "        - total_gains (float): the total profit made by the agent\n",
    "        - invest (float): the percentage of profit made by the agent\n",
    "        \"\"\"\n",
    "        # Set the trend data and initial money\n",
    "        self.trend = trend\n",
    "        starting_money = initial_money\n",
    "\n",
    "        # Initialize variables for tracking state and actions\n",
    "        states_sell = []\n",
    "        states_buy = []\n",
    "        inventory = []\n",
    "        state = self.get_state(0)\n",
    "\n",
    "        # Loop through the trend data and take actions based on the agent's policy\n",
    "        for t in range(0, len(self.trend) - 1, self.skip):\n",
    "            action = self.act(state)\n",
    "            next_state = self.get_state(t + 1)\n",
    "\n",
    "            # Buy stocks if action is 1 and there is enough money\n",
    "            if action == 1 and initial_money >= self.trend[t] and t < (len(self.trend) - self.half_window):\n",
    "                inventory.append(self.trend[t])\n",
    "                initial_money -= self.trend[t]\n",
    "                states_buy.append(t)\n",
    "                print(f'Hour {t}: buy 1 unit at price {self.trend[t]}, total balance {initial_money}')\n",
    "\n",
    "            # Sell stocks if action is 2 and there are stocks in inventory\n",
    "            elif action == 2 and len(inventory):\n",
    "                bought_price = inventory.pop(0)\n",
    "                initial_money += self.trend[t]\n",
    "                states_sell.append(t)\n",
    "                try:\n",
    "                    invest = ((close[t] - bought_price) / bought_price) * 100\n",
    "                except:\n",
    "                    invest = 0\n",
    "                print(f'Hour {t}: sell 1 unit at price {self.trend[t]}, investment {invest}, total balance {initial_money}')\n",
    "\n",
    "            state = next_state\n",
    "\n",
    "        # Calculate and return the final results\n",
    "        invest = ((initial_money - starting_money) / starting_money) * 100\n",
    "        total_gains = initial_money - starting_money\n",
    "        return states_buy, states_sell, total_gains, invest"
   ]
  },
  {
   "cell_type": "code",
   "execution_count": 16,
   "id": "df2ffb11",
   "metadata": {},
   "outputs": [
    {
     "name": "stderr",
     "output_type": "stream",
     "text": [
      "C:\\Users\\lyakh\\AppData\\Local\\Temp\\ipykernel_9108\\3060502780.py:38: UserWarning: `tf.layers.dense` is deprecated and will be removed in a future version. Please use `tf.keras.layers.Dense` instead.\n",
      "  feed = tf.layers.dense(self.X, 256, activation = tf.nn.relu)\n",
      "C:\\Users\\lyakh\\AppData\\Local\\Temp\\ipykernel_9108\\3060502780.py:43: UserWarning: `tf.layers.dense` is deprecated and will be removed in a future version. Please use `tf.keras.layers.Dense` instead.\n",
      "  self.logits = tf.layers.dense(feed, self.action_size)\n"
     ]
    },
    {
     "name": "stdout",
     "output_type": "stream",
     "text": [
      "Epoch: 10 | Total rewards: 0 | Cost: nan | Total money 1000\n",
      "Epoch: 20 | Total rewards: 0 | Cost: nan | Total money 1000\n",
      "Epoch: 30 | Total rewards: 0 | Cost: nan | Total money 1000\n",
      "Epoch: 40 | Total rewards: 0 | Cost: nan | Total money 1000\n"
     ]
    },
    {
     "ename": "KeyboardInterrupt",
     "evalue": "",
     "output_type": "error",
     "traceback": [
      "\u001b[1;31m---------------------------------------------------------------------------\u001b[0m",
      "\u001b[1;31mKeyboardInterrupt\u001b[0m                         Traceback (most recent call last)",
      "Cell \u001b[1;32mIn[16], line 15\u001b[0m\n\u001b[0;32m      7\u001b[0m batch_size \u001b[38;5;241m=\u001b[39m \u001b[38;5;241m64\u001b[39m\n\u001b[0;32m      9\u001b[0m agent \u001b[38;5;241m=\u001b[39m Trader(state_size \u001b[38;5;241m=\u001b[39m window_size, \n\u001b[0;32m     10\u001b[0m                window_size \u001b[38;5;241m=\u001b[39m window_size, \n\u001b[0;32m     11\u001b[0m                trend \u001b[38;5;241m=\u001b[39m close_training, \n\u001b[0;32m     12\u001b[0m                skip \u001b[38;5;241m=\u001b[39m skip, \n\u001b[0;32m     13\u001b[0m                batch_size \u001b[38;5;241m=\u001b[39m batch_size)\n\u001b[1;32m---> 15\u001b[0m \u001b[43magent\u001b[49m\u001b[38;5;241;43m.\u001b[39;49m\u001b[43mtrain\u001b[49m\u001b[43m(\u001b[49m\u001b[43miterations\u001b[49m\u001b[43m \u001b[49m\u001b[38;5;241;43m=\u001b[39;49m\u001b[43m \u001b[49m\u001b[38;5;241;43m200\u001b[39;49m\u001b[43m,\u001b[49m\u001b[43m \u001b[49m\u001b[43mcheckpoint\u001b[49m\u001b[43m \u001b[49m\u001b[38;5;241;43m=\u001b[39;49m\u001b[43m \u001b[49m\u001b[38;5;241;43m10\u001b[39;49m\u001b[43m,\u001b[49m\u001b[43m \u001b[49m\u001b[43minitial_money\u001b[49m\u001b[43m \u001b[49m\u001b[38;5;241;43m=\u001b[39;49m\u001b[43m \u001b[49m\u001b[43minitial_money\u001b[49m\u001b[43m)\u001b[49m\n",
      "Cell \u001b[1;32mIn[15], line 213\u001b[0m, in \u001b[0;36mTrader.train\u001b[1;34m(self, iterations, checkpoint, initial_money)\u001b[0m\n\u001b[0;32m    211\u001b[0m     state \u001b[38;5;241m=\u001b[39m next_state\n\u001b[0;32m    212\u001b[0m     batch_size \u001b[38;5;241m=\u001b[39m \u001b[38;5;28mmin\u001b[39m(\u001b[38;5;28mself\u001b[39m\u001b[38;5;241m.\u001b[39mbatch_size, \u001b[38;5;28mlen\u001b[39m(\u001b[38;5;28mself\u001b[39m\u001b[38;5;241m.\u001b[39mmemory))\n\u001b[1;32m--> 213\u001b[0m     cost \u001b[38;5;241m=\u001b[39m \u001b[38;5;28;43mself\u001b[39;49m\u001b[38;5;241;43m.\u001b[39;49m\u001b[43mreplay\u001b[49m\u001b[43m(\u001b[49m\u001b[43mbatch_size\u001b[49m\u001b[43m)\u001b[49m\n\u001b[0;32m    215\u001b[0m \u001b[38;5;66;03m# Print the progress at the checkpoint interval\u001b[39;00m\n\u001b[0;32m    216\u001b[0m \u001b[38;5;28;01mif\u001b[39;00m (i\u001b[38;5;241m+\u001b[39m\u001b[38;5;241m1\u001b[39m) \u001b[38;5;241m%\u001b[39m checkpoint \u001b[38;5;241m==\u001b[39m \u001b[38;5;241m0\u001b[39m:\n",
      "Cell \u001b[1;32mIn[15], line 153\u001b[0m, in \u001b[0;36mTrader.replay\u001b[1;34m(self, batch_size)\u001b[0m\n\u001b[0;32m    150\u001b[0m     Y[i] \u001b[38;5;241m=\u001b[39m target\n\u001b[0;32m    152\u001b[0m \u001b[38;5;66;03m# Train the neural network on the state and target data\u001b[39;00m\n\u001b[1;32m--> 153\u001b[0m cost, _ \u001b[38;5;241m=\u001b[39m \u001b[38;5;28;43mself\u001b[39;49m\u001b[38;5;241;43m.\u001b[39;49m\u001b[43msess\u001b[49m\u001b[38;5;241;43m.\u001b[39;49m\u001b[43mrun\u001b[49m\u001b[43m(\u001b[49m\u001b[43m[\u001b[49m\u001b[38;5;28;43mself\u001b[39;49m\u001b[38;5;241;43m.\u001b[39;49m\u001b[43mcost\u001b[49m\u001b[43m,\u001b[49m\u001b[43m \u001b[49m\u001b[38;5;28;43mself\u001b[39;49m\u001b[38;5;241;43m.\u001b[39;49m\u001b[43moptimizer\u001b[49m\u001b[43m]\u001b[49m\u001b[43m,\u001b[49m\u001b[43m \u001b[49m\u001b[43mfeed_dict\u001b[49m\u001b[38;5;241;43m=\u001b[39;49m\u001b[43m{\u001b[49m\u001b[38;5;28;43mself\u001b[39;49m\u001b[38;5;241;43m.\u001b[39;49m\u001b[43mX\u001b[49m\u001b[43m:\u001b[49m\u001b[43m \u001b[49m\u001b[43mX\u001b[49m\u001b[43m,\u001b[49m\u001b[43m \u001b[49m\u001b[38;5;28;43mself\u001b[39;49m\u001b[38;5;241;43m.\u001b[39;49m\u001b[43mY\u001b[49m\u001b[43m:\u001b[49m\u001b[43m \u001b[49m\u001b[43mY\u001b[49m\u001b[43m}\u001b[49m\u001b[43m)\u001b[49m\n\u001b[0;32m    155\u001b[0m \u001b[38;5;66;03m# Decay the exploration rate\u001b[39;00m\n\u001b[0;32m    156\u001b[0m \u001b[38;5;28;01mif\u001b[39;00m \u001b[38;5;28mself\u001b[39m\u001b[38;5;241m.\u001b[39mepsilon \u001b[38;5;241m>\u001b[39m \u001b[38;5;28mself\u001b[39m\u001b[38;5;241m.\u001b[39mepsilon_min:\n",
      "File \u001b[1;32mc:\\Users\\lyakh\\AppData\\Local\\Programs\\Python\\Python311\\Lib\\site-packages\\tensorflow\\python\\client\\session.py:969\u001b[0m, in \u001b[0;36mBaseSession.run\u001b[1;34m(self, fetches, feed_dict, options, run_metadata)\u001b[0m\n\u001b[0;32m    966\u001b[0m run_metadata_ptr \u001b[38;5;241m=\u001b[39m tf_session\u001b[38;5;241m.\u001b[39mTF_NewBuffer() \u001b[38;5;28;01mif\u001b[39;00m run_metadata \u001b[38;5;28;01melse\u001b[39;00m \u001b[38;5;28;01mNone\u001b[39;00m\n\u001b[0;32m    968\u001b[0m \u001b[38;5;28;01mtry\u001b[39;00m:\n\u001b[1;32m--> 969\u001b[0m   result \u001b[38;5;241m=\u001b[39m \u001b[38;5;28;43mself\u001b[39;49m\u001b[38;5;241;43m.\u001b[39;49m\u001b[43m_run\u001b[49m\u001b[43m(\u001b[49m\u001b[38;5;28;43;01mNone\u001b[39;49;00m\u001b[43m,\u001b[49m\u001b[43m \u001b[49m\u001b[43mfetches\u001b[49m\u001b[43m,\u001b[49m\u001b[43m \u001b[49m\u001b[43mfeed_dict\u001b[49m\u001b[43m,\u001b[49m\u001b[43m \u001b[49m\u001b[43moptions_ptr\u001b[49m\u001b[43m,\u001b[49m\n\u001b[0;32m    970\u001b[0m \u001b[43m                     \u001b[49m\u001b[43mrun_metadata_ptr\u001b[49m\u001b[43m)\u001b[49m\n\u001b[0;32m    971\u001b[0m   \u001b[38;5;28;01mif\u001b[39;00m run_metadata:\n\u001b[0;32m    972\u001b[0m     proto_data \u001b[38;5;241m=\u001b[39m tf_session\u001b[38;5;241m.\u001b[39mTF_GetBuffer(run_metadata_ptr)\n",
      "File \u001b[1;32mc:\\Users\\lyakh\\AppData\\Local\\Programs\\Python\\Python311\\Lib\\site-packages\\tensorflow\\python\\client\\session.py:1192\u001b[0m, in \u001b[0;36mBaseSession._run\u001b[1;34m(self, handle, fetches, feed_dict, options, run_metadata)\u001b[0m\n\u001b[0;32m   1189\u001b[0m \u001b[38;5;66;03m# We only want to really perform the run if fetches or targets are provided,\u001b[39;00m\n\u001b[0;32m   1190\u001b[0m \u001b[38;5;66;03m# or if the call is a partial run that specifies feeds.\u001b[39;00m\n\u001b[0;32m   1191\u001b[0m \u001b[38;5;28;01mif\u001b[39;00m final_fetches \u001b[38;5;129;01mor\u001b[39;00m final_targets \u001b[38;5;129;01mor\u001b[39;00m (handle \u001b[38;5;129;01mand\u001b[39;00m feed_dict_tensor):\n\u001b[1;32m-> 1192\u001b[0m   results \u001b[38;5;241m=\u001b[39m \u001b[38;5;28;43mself\u001b[39;49m\u001b[38;5;241;43m.\u001b[39;49m\u001b[43m_do_run\u001b[49m\u001b[43m(\u001b[49m\u001b[43mhandle\u001b[49m\u001b[43m,\u001b[49m\u001b[43m \u001b[49m\u001b[43mfinal_targets\u001b[49m\u001b[43m,\u001b[49m\u001b[43m \u001b[49m\u001b[43mfinal_fetches\u001b[49m\u001b[43m,\u001b[49m\n\u001b[0;32m   1193\u001b[0m \u001b[43m                         \u001b[49m\u001b[43mfeed_dict_tensor\u001b[49m\u001b[43m,\u001b[49m\u001b[43m \u001b[49m\u001b[43moptions\u001b[49m\u001b[43m,\u001b[49m\u001b[43m \u001b[49m\u001b[43mrun_metadata\u001b[49m\u001b[43m)\u001b[49m\n\u001b[0;32m   1194\u001b[0m \u001b[38;5;28;01melse\u001b[39;00m:\n\u001b[0;32m   1195\u001b[0m   results \u001b[38;5;241m=\u001b[39m []\n",
      "File \u001b[1;32mc:\\Users\\lyakh\\AppData\\Local\\Programs\\Python\\Python311\\Lib\\site-packages\\tensorflow\\python\\client\\session.py:1372\u001b[0m, in \u001b[0;36mBaseSession._do_run\u001b[1;34m(self, handle, target_list, fetch_list, feed_dict, options, run_metadata)\u001b[0m\n\u001b[0;32m   1369\u001b[0m   \u001b[38;5;28;01mreturn\u001b[39;00m \u001b[38;5;28mself\u001b[39m\u001b[38;5;241m.\u001b[39m_call_tf_sessionprun(handle, feed_dict, fetch_list)\n\u001b[0;32m   1371\u001b[0m \u001b[38;5;28;01mif\u001b[39;00m handle \u001b[38;5;129;01mis\u001b[39;00m \u001b[38;5;28;01mNone\u001b[39;00m:\n\u001b[1;32m-> 1372\u001b[0m   \u001b[38;5;28;01mreturn\u001b[39;00m \u001b[38;5;28;43mself\u001b[39;49m\u001b[38;5;241;43m.\u001b[39;49m\u001b[43m_do_call\u001b[49m\u001b[43m(\u001b[49m\u001b[43m_run_fn\u001b[49m\u001b[43m,\u001b[49m\u001b[43m \u001b[49m\u001b[43mfeeds\u001b[49m\u001b[43m,\u001b[49m\u001b[43m \u001b[49m\u001b[43mfetches\u001b[49m\u001b[43m,\u001b[49m\u001b[43m \u001b[49m\u001b[43mtargets\u001b[49m\u001b[43m,\u001b[49m\u001b[43m \u001b[49m\u001b[43moptions\u001b[49m\u001b[43m,\u001b[49m\n\u001b[0;32m   1373\u001b[0m \u001b[43m                       \u001b[49m\u001b[43mrun_metadata\u001b[49m\u001b[43m)\u001b[49m\n\u001b[0;32m   1374\u001b[0m \u001b[38;5;28;01melse\u001b[39;00m:\n\u001b[0;32m   1375\u001b[0m   \u001b[38;5;28;01mreturn\u001b[39;00m \u001b[38;5;28mself\u001b[39m\u001b[38;5;241m.\u001b[39m_do_call(_prun_fn, handle, feeds, fetches)\n",
      "File \u001b[1;32mc:\\Users\\lyakh\\AppData\\Local\\Programs\\Python\\Python311\\Lib\\site-packages\\tensorflow\\python\\client\\session.py:1379\u001b[0m, in \u001b[0;36mBaseSession._do_call\u001b[1;34m(self, fn, *args)\u001b[0m\n\u001b[0;32m   1377\u001b[0m \u001b[38;5;28;01mdef\u001b[39;00m \u001b[38;5;21m_do_call\u001b[39m(\u001b[38;5;28mself\u001b[39m, fn, \u001b[38;5;241m*\u001b[39margs):\n\u001b[0;32m   1378\u001b[0m   \u001b[38;5;28;01mtry\u001b[39;00m:\n\u001b[1;32m-> 1379\u001b[0m     \u001b[38;5;28;01mreturn\u001b[39;00m \u001b[43mfn\u001b[49m\u001b[43m(\u001b[49m\u001b[38;5;241;43m*\u001b[39;49m\u001b[43margs\u001b[49m\u001b[43m)\u001b[49m\n\u001b[0;32m   1380\u001b[0m   \u001b[38;5;28;01mexcept\u001b[39;00m errors\u001b[38;5;241m.\u001b[39mOpError \u001b[38;5;28;01mas\u001b[39;00m e:\n\u001b[0;32m   1381\u001b[0m     message \u001b[38;5;241m=\u001b[39m compat\u001b[38;5;241m.\u001b[39mas_text(e\u001b[38;5;241m.\u001b[39mmessage)\n",
      "File \u001b[1;32mc:\\Users\\lyakh\\AppData\\Local\\Programs\\Python\\Python311\\Lib\\site-packages\\tensorflow\\python\\client\\session.py:1362\u001b[0m, in \u001b[0;36mBaseSession._do_run.<locals>._run_fn\u001b[1;34m(feed_dict, fetch_list, target_list, options, run_metadata)\u001b[0m\n\u001b[0;32m   1359\u001b[0m \u001b[38;5;28;01mdef\u001b[39;00m \u001b[38;5;21m_run_fn\u001b[39m(feed_dict, fetch_list, target_list, options, run_metadata):\n\u001b[0;32m   1360\u001b[0m   \u001b[38;5;66;03m# Ensure any changes to the graph are reflected in the runtime.\u001b[39;00m\n\u001b[0;32m   1361\u001b[0m   \u001b[38;5;28mself\u001b[39m\u001b[38;5;241m.\u001b[39m_extend_graph()\n\u001b[1;32m-> 1362\u001b[0m   \u001b[38;5;28;01mreturn\u001b[39;00m \u001b[38;5;28;43mself\u001b[39;49m\u001b[38;5;241;43m.\u001b[39;49m\u001b[43m_call_tf_sessionrun\u001b[49m\u001b[43m(\u001b[49m\u001b[43moptions\u001b[49m\u001b[43m,\u001b[49m\u001b[43m \u001b[49m\u001b[43mfeed_dict\u001b[49m\u001b[43m,\u001b[49m\u001b[43m \u001b[49m\u001b[43mfetch_list\u001b[49m\u001b[43m,\u001b[49m\n\u001b[0;32m   1363\u001b[0m \u001b[43m                                  \u001b[49m\u001b[43mtarget_list\u001b[49m\u001b[43m,\u001b[49m\u001b[43m \u001b[49m\u001b[43mrun_metadata\u001b[49m\u001b[43m)\u001b[49m\n",
      "File \u001b[1;32mc:\\Users\\lyakh\\AppData\\Local\\Programs\\Python\\Python311\\Lib\\site-packages\\tensorflow\\python\\client\\session.py:1455\u001b[0m, in \u001b[0;36mBaseSession._call_tf_sessionrun\u001b[1;34m(self, options, feed_dict, fetch_list, target_list, run_metadata)\u001b[0m\n\u001b[0;32m   1453\u001b[0m \u001b[38;5;28;01mdef\u001b[39;00m \u001b[38;5;21m_call_tf_sessionrun\u001b[39m(\u001b[38;5;28mself\u001b[39m, options, feed_dict, fetch_list, target_list,\n\u001b[0;32m   1454\u001b[0m                         run_metadata):\n\u001b[1;32m-> 1455\u001b[0m   \u001b[38;5;28;01mreturn\u001b[39;00m \u001b[43mtf_session\u001b[49m\u001b[38;5;241;43m.\u001b[39;49m\u001b[43mTF_SessionRun_wrapper\u001b[49m\u001b[43m(\u001b[49m\u001b[38;5;28;43mself\u001b[39;49m\u001b[38;5;241;43m.\u001b[39;49m\u001b[43m_session\u001b[49m\u001b[43m,\u001b[49m\u001b[43m \u001b[49m\u001b[43moptions\u001b[49m\u001b[43m,\u001b[49m\u001b[43m \u001b[49m\u001b[43mfeed_dict\u001b[49m\u001b[43m,\u001b[49m\n\u001b[0;32m   1456\u001b[0m \u001b[43m                                          \u001b[49m\u001b[43mfetch_list\u001b[49m\u001b[43m,\u001b[49m\u001b[43m \u001b[49m\u001b[43mtarget_list\u001b[49m\u001b[43m,\u001b[49m\n\u001b[0;32m   1457\u001b[0m \u001b[43m                                          \u001b[49m\u001b[43mrun_metadata\u001b[49m\u001b[43m)\u001b[49m\n",
      "\u001b[1;31mKeyboardInterrupt\u001b[0m: "
     ]
    }
   ],
   "source": [
    "close_training = df_training.Close.values.tolist() # Get closing prices.\n",
    "close_test = df_test.Close.values.tolist() # Get closing prices.\n",
    "\n",
    "initial_money = 1000 # Initial amount of money.\n",
    "window_size = 5 # Lookback window (it contributes to the state's definition).\n",
    "skip = 1 # Overlap regulator.\n",
    "batch_size = 64\n",
    "\n",
    "agent = Trader(state_size = window_size, \n",
    "               window_size = window_size, \n",
    "               trend = close_training, \n",
    "               skip = skip, \n",
    "               batch_size = batch_size)\n",
    "\n",
    "agent.train(iterations = 200, checkpoint = 10, initial_money = initial_money)"
   ]
  },
  {
   "cell_type": "code",
   "execution_count": null,
   "id": "707415a2",
   "metadata": {},
   "outputs": [],
   "source": [
    "states_buy, states_sell, total_gains, invest = agent.test(initial_money = initial_money, trend=close_test)"
   ]
  },
  {
   "cell_type": "code",
   "execution_count": null,
   "id": "9ad5446a",
   "metadata": {},
   "outputs": [],
   "source": [
    "fig = plt.figure(figsize = (15,5))\n",
    "plt.plot(close_test, color='r', lw=2.)\n",
    "plt.plot(close_test, '^', markersize=10, color='m', label = 'buying signal', markevery = states_buy)\n",
    "plt.plot(close_test, 'v', markersize=10, color='k', label = 'selling signal', markevery = states_sell)\n",
    "plt.title('total gains %f, total investment %f%%'%(total_gains, invest))\n",
    "plt.legend()\n",
    "plt.savefig(name+'.png')\n",
    "plt.show()"
   ]
  }
 ],
 "metadata": {
  "kernelspec": {
   "display_name": "Python 3 (ipykernel)",
   "language": "python",
   "name": "python3"
  },
  "language_info": {
   "codemirror_mode": {
    "name": "ipython",
    "version": 3
   },
   "file_extension": ".py",
   "mimetype": "text/x-python",
   "name": "python",
   "nbconvert_exporter": "python",
   "pygments_lexer": "ipython3",
   "version": "3.11.1"
  }
 },
 "nbformat": 4,
 "nbformat_minor": 5
}
